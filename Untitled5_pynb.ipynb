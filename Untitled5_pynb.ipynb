{
  "nbformat": 4,
  "nbformat_minor": 0,
  "metadata": {
    "colab": {
      "provenance": [],
      "authorship_tag": "ABX9TyO+kwpHjjd6Rndjo7c0Bq0W",
      "include_colab_link": true
    },
    "kernelspec": {
      "name": "python3",
      "display_name": "Python 3"
    },
    "language_info": {
      "name": "python"
    }
  },
  "cells": [
    {
      "cell_type": "markdown",
      "metadata": {
        "id": "view-in-github",
        "colab_type": "text"
      },
      "source": [
        "<a href=\"https://colab.research.google.com/github/LabeekShaikh/ML-assignment/blob/main/Untitled5_pynb.ipynb\" target=\"_parent\"><img src=\"https://colab.research.google.com/assets/colab-badge.svg\" alt=\"Open In Colab\"/></a>"
      ]
    },
    {
      "cell_type": "markdown",
      "source": [
        "![download (1).png](data:image/png;base64,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)\n",
        "\n",
        "#**-->                             ` PYTHON`**#\n",
        "---\n",
        "---\n",
        "\n",
        "Python is used for server-side web development, software development, mathematics, and system scripting, and is popular for Rapid Application Development and as a scripting or glue language to tie existing components because of its high-level, built-in data structures, dynamic typing, and dynamic binding.\n",
        "\n",
        "\n",
        "\n",
        "\n",
        "\n",
        "\n",
        "#    **`Python Syntax`**\n",
        "\n",
        "Somewhat similar to the English language, with a mathematical influence, Python is built for readability\n",
        "Unlike other languages that use semicolons and/or parentheses to complete a command, Python uses new lines for the same function\n",
        "Defines scope (i.e., loops, functions, classes) by relying indentation, using whitespace, rather than braces (aka curly brackets)\n",
        "#  **`Python`** **& `AI`**\n",
        "\n",
        "AI researchers are fans of Python. Google TensorFlow, as well as other libraries (scikit-learn, Keras), establish a foundation for AI development because of the usability and flexibility it offers Python users. These libraries, and their availability, are critical because they enable developers to focus on growth and building.\n",
        "\n",
        "---\n",
        "---\n",
        "\n",
        "![download.png](data:image/png;base64,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)\n",
        "\n",
        "# *` Python Data Types `*\n",
        "* -> Python string\n",
        "* -> Python list\n",
        "* -> Python tuples\n",
        "* -> Python sets\n",
        "* -> Python dictionary\n",
        "* -> Python arrays\n",
        "\n",
        "\n",
        "---\n",
        "---\n",
        "# **`PYTHON STRING`**\n",
        "\n",
        "\n",
        "* -->Strings in python are surrounded by either single quotation marks, or double quotation marks.\n",
        "\n",
        "\n",
        "\n",
        "\n",
        "\n",
        "\n",
        "\n",
        "\n",
        "\n",
        "\n",
        "\n",
        "\n",
        "\n",
        "\n",
        "\n",
        "\n",
        "\n"
      ],
      "metadata": {
        "id": "sHut1s__XLpt"
      }
    },
    {
      "cell_type": "code",
      "source": [
        "# create string type variables\n",
        "\n",
        "name = \"Python\"\n",
        "print(name)\n",
        "\n",
        "message = \"I love Python.\"\n",
        "print(message)"
      ],
      "metadata": {
        "colab": {
          "base_uri": "https://localhost:8080/"
        },
        "id": "VFuFLGi9d8Pq",
        "outputId": "ece8f5b9-ce18-4718-b1ea-373ef0388e73"
      },
      "execution_count": null,
      "outputs": [
        {
          "output_type": "stream",
          "name": "stdout",
          "text": [
            "Python\n",
            "I love Python.\n"
          ]
        }
      ]
    },
    {
      "cell_type": "markdown",
      "source": [
        "\n",
        "\n",
        "---\n",
        "\n",
        "\n",
        "---\n",
        "\n",
        "\n"
      ],
      "metadata": {
        "id": "vYEFOWUSeMg2"
      }
    },
    {
      "cell_type": "markdown",
      "source": [
        "# ***`LISTS`***"
      ],
      "metadata": {
        "id": "l81XHKe5eSf1"
      }
    },
    {
      "cell_type": "code",
      "execution_count": null,
      "metadata": {
        "id": "ToAMH_NJHmWa"
      },
      "outputs": [],
      "source": [
        "##Lists\n",
        "\n",
        "l1 = list()\n",
        "\n",
        "l1.append(18)\n",
        "\n",
        "l1\n",
        "\n",
        "l2 = list()\n",
        "\n",
        "l2.append(56)\n",
        "\n",
        "l2\n",
        "\n",
        "l1 = l2\n",
        "\n",
        "l1\n",
        "\n",
        "l2.append([\"45\", \"89\"])\n",
        "\n",
        "l2\n",
        "\n",
        "c = l2.count(56)\n",
        "\n",
        "c\n",
        "\n",
        "l1.extend([1,2,3,4,5])\n",
        "\n",
        "l1\n",
        "\n",
        "l1.extend({8,9,5,75,4,5})\n",
        "\n",
        "l1\n",
        "\n",
        "l1.index(5)\n",
        "\n",
        "sliced_l1 = l1[0:12]\n",
        "\n",
        "sliced_l1\n",
        "\n",
        "sliced_l1\n",
        "\n",
        "l1.insert(5,855)\n",
        "\n",
        "l1\n",
        "\n",
        "l1.pop(5)\n",
        "\n",
        "l1\n",
        "\n",
        "l1.remove(75)\n",
        "\n",
        "l1\n",
        "\n",
        "l1.reverse()\n",
        "\n",
        "l1\n",
        "\n",
        "l1.pop(9)\n",
        "\n",
        "l1.sort()\n",
        "\n",
        "l1\n",
        "\n",
        "l1.sort(reverse=True)\n",
        "\n",
        "l1\n",
        "\n",
        "l1.reverse()\n",
        "\n",
        "l1\n",
        "\n",
        "l4 = [\"Mohit\", \"Nikhil\", \"lokesh\", \"Amesh\", \"Manas\"]\n",
        "\n",
        "l4.sort()"
      ]
    },
    {
      "cell_type": "markdown",
      "source": [
        "\n",
        "# ->  *This is a Python code that demonstrates the use of various list methods*\n",
        "# ->  *Here is a brief explanation of each line of code:*\n",
        "-------------------------------------------------------------------------------\n",
        "\n",
        "1. `l1 = list()`: Creates an empty list.\n",
        "2. `l1.append(18)`: Adds the integer value 18 to the end of the list.\n",
        "3. `l2 = list()`: Creates another empty list.\n",
        "4. `l2.append(56)`: Adds the integer value 56 to the end of the second list.\n",
        "5. `l1 = l2`: Assigns the value of the second list to the first list.\n",
        "6. `l2.append([\"45\", \"89\"])`: Adds a list of two string values to the end of the second list.\n",
        "7. `c = l2.count(56)`: Counts the number of occurrences of the integer value 56 in the second list and assigns it to the variable `c`.\n",
        "8. `l1.extend([1,2,3,4,5])`: Adds the integer values 1 through 5 to the end of the first list.\n",
        "9. `l1.extend({8,9,5,75,4,5})`: Adds the integer values 4, 5, 8, 9, and 75 to the end of the first list.\n",
        "10. `l1.index(5)`: Returns the index of the first occurrence of the integer value 5 in the first list.\n",
        "11. `sliced_l1 = l1[0:12]`: Creates a new list containing the first 12 elements of the first list.\n",
        "12. `l1.insert(5,855)`: Inserts the integer value 855 at index 5 in the first list.\n",
        "13. `l1.pop(5)`: Removes and returns the element at index 5 in the first list.\n",
        "14. `l1.remove(75)`: Removes the first occurrence of the integer value 75 from the first list.\n",
        "15. `l1.reverse()`: Reverses the order of the elements in the first list.\n",
        "16. `l1.pop(9)`: Removes and returns the element at index 9 in the first list.\n",
        "17. `l1.sort()`: Sorts the elements of the first list in ascending order.\n",
        "18. `l1.sort(reverse=True)`: Sorts the elements of the first list in descending order.\n",
        "19. `l1.reverse()`: Reverses the order of the elements in the first list.\n",
        "20. `l4 = [\"Mohit\", \"Nikhil\", \"lokesh\", \"Amesh\", \"Manas\"]`: Creates a new list\n",
        "containing five string values.\n",
        "21. `l4.sort()`: Sorts the elements of the fifth list in alphabetical order.\n",
        "\n",
        "# *`Extra`* ------>  A list is a data structure in Python that is a mutable, or changeable, ordered sequence of elements. Each element or value that is inside of a list is called an item. Just as strings are defined as characters between quotes, lists are defined by having values between square brackets [ ] .\n",
        "\n",
        "\n",
        "---\n",
        "---\n",
        "\n"
      ],
      "metadata": {
        "id": "bTkSJb1SJWRQ"
      }
    },
    {
      "cell_type": "markdown",
      "source": [
        "\n",
        "\n",
        "# ***`PYTHON DICTIONARIES`***\n",
        "\n",
        "![download (2).jpeg](data:image/jpeg;base64,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)\n",
        "\n",
        "\n",
        "\n",
        "\n",
        "# Dictionaries are used to store data values in key : value pairs.\n",
        "\n",
        "# A dictionary is a collection which is ordered*, changeable and do not allow duplicates.\n",
        "\n",
        "#As of Python version 3.7, dictionaries are ordered. In Python 3.6 and earlier, dictionaries are unordered.\n",
        "\n",
        "#Dictionaries are written with curly brackets, and have keys and values:\n"
      ],
      "metadata": {
        "id": "_dkxjywZgjHq"
      }
    },
    {
      "cell_type": "code",
      "source": [
        "\"\"\"##Dictionaries##\"\"\"\n",
        "\n",
        "names = [\"Ramesh\", \"Mukesh\", \"Ravi\"]\n",
        "height = [789,987,654]\n",
        "\n",
        "dict(zip(names,height))\n",
        "\n",
        "for i,j in zip([\"Ramesh\",\"Suresh\"],[456,987]):\n",
        "\n",
        "  print(i,j)\n",
        "\n",
        "l = [i for i in range(0,10)]\n",
        "\n",
        "l\n",
        "\n",
        "l = [i for i in range(0,10) if i % 2 == 0]"
      ],
      "metadata": {
        "id": "wi_fSuWbLRXM"
      },
      "execution_count": null,
      "outputs": []
    },
    {
      "cell_type": "markdown",
      "source": [
        "# **This is a Python code that demonstrates the use of lists and list comprehension. Here is a brief explanation of each line of code:**\n",
        "  ---------------------------------------------------------------\n",
        "\n",
        "1. `names = [\"Ramesh\", \"Mukesh\", \"Ravi\"]`: Creates a list of three string values.\n",
        "2. `height = [789,987,654]`: Creates a list of three integer values.\n",
        "3. `dict(zip(names,height))`: Creates a dictionary with the string values in `names` as keys and the integer values in `height` as values.\n",
        "4. `for i,j in zip([\"Ramesh\",\"Suresh\"],[456,987]):`: Loops through two lists simultaneously and assigns the values to the variables `i` and `j`.\n",
        "5. `print(i,j)`: Prints the values of `i` and `j` in each iteration of the loop.\n",
        "6. `l = [i for i in range(0,10)]`: Creates a list of the integer values 0 through 9.\n",
        "7. `l = [i for i in range(0,10) if i % 2 == 0]`: Creates a list of the even integer values 0 through 8.\n",
        "\n",
        "# In line 6, the code uses list comprehension to create a list of integers from 0 to 9. List comprehension is a concise way to create lists in Python. The expression inside the square brackets specifies the elements of the list, and the `for` loop specifies the values to be included in the list. In this case, the `for` loop iterates over the range of integers from 0 to 9, and the expression `i` specifies that each integer in the range should be included in the list.\n",
        "\n",
        "# In line 7, the code uses list comprehension to create a list of even integers from 0 to 8. The `if` statement in the list comprehension specifies that only integers that are divisible by 2 (i.e., even integers) should be included in the list.\n"
      ],
      "metadata": {
        "id": "LFx_rj-uLjrU"
      }
    },
    {
      "cell_type": "code",
      "source": [
        "import random\n",
        "\n",
        "mapping_dict = dict(zip(range(0,10),range(0,10)))\n",
        "\n",
        "mapping_dict.keys()\n",
        "\n",
        "for k in mapping_dict.keys():\n",
        "\n",
        "  mapping_dict[k] = str(mapping_dict[k])\n",
        "\n",
        "mapping_dict\n",
        "\n",
        "mapping_dict[10] = chr(65)\n",
        "\n",
        "mapping_dict\n",
        "\n",
        "for i in range(0,26):\n",
        "  mapping_dict[10+i] = chr(65+i)\n",
        "\n",
        "mapping_dict"
      ],
      "metadata": {
        "id": "be3wCxCINS49"
      },
      "execution_count": null,
      "outputs": []
    },
    {
      "cell_type": "markdown",
      "source": [
        "# ***This is a Python code that demonstrates the use of dictionaries. Here is a brief explanation of each line of code:***\n",
        "---------------------------------------------------------------------------\n",
        "\n",
        "1. `import random`: Imports the `random` module, which provides functions for generating random numbers.\n",
        "2. `mapping_dict = dict(zip(range(0,10),range(0,10)))`: Creates a dictionary with keys and values ranging from 0 to 9.\n",
        "3. `mapping_dict.keys()`: Returns a list of the keys in the dictionary.\n",
        "4. `for k in mapping_dict.keys():`: Loops through the keys in the dictionary.\n",
        "5. `mapping_dict[k] = str(mapping_dict[k])`: Converts the value associated with each key to a string.\n",
        "6. `mapping_dict[10] = chr(65)`: Adds a new key-value pair to the dictionary, where the key is 10 and the value is the ASCII character 'A'.\n",
        "7. `for i in range(0,26):`: Loops through the integers from 0 to 25.\n",
        "8. `mapping_dict[10+i] = chr(65+i)`: Adds a new key-value pair to the dictionary, where the key is 10 plus the current integer value and the value is the ASCII character corresponding to the current integer value plus 65.\n",
        "\n",
        "The resulting dictionary maps integers from 0 to 35 to their corresponding ASCII characters. For example, `mapping_dict[0]` returns the string `'0'`, `mapping_dict[10]` returns the string `'A'`, and `mapping_dict[35]` returns the string `'Z'`.\n",
        "\n",
        "# ---->  **Characters in ASCII encoding include upper- and lowercase letters A through Z, numerals 0 through 9 and basic punctuation symbols. It also uses some non-printing control characters that were originally intended for use with teletype printing terminals.**\n",
        "\n",
        "\n"
      ],
      "metadata": {
        "id": "2iDExZT4Niso"
      }
    },
    {
      "cell_type": "code",
      "source": [
        "random_numbers = list()\n",
        "\n",
        "for i in range(0,1000):\n",
        "  blank_str = str()\n",
        "\n",
        "  random_digit = random.randint(0,35)\n",
        "  blank_str = blank_str + mapping_dict[random_digit]\n",
        "\n",
        "  random_digit = random.randint(0,35)\n",
        "  blank_str = blank_str + mapping_dict[random_digit]\n",
        "\n",
        "\n",
        "  for i in range(0,8):\n",
        "    coin_toss = random.randint(0,1)\n",
        "    if coin_toss == 1:\n",
        "      random_digit = random.randint(0,35)\n",
        "      blank_str = blank_str + mapping_dict[random_digit]\n",
        "\n",
        "    else:\n",
        "      break\n",
        "    random_numbers.append(blank_str)\n"
      ],
      "metadata": {
        "id": "ahYgzrj3Orqu"
      },
      "execution_count": null,
      "outputs": []
    },
    {
      "cell_type": "markdown",
      "source": [
        "# ***-->This Python code generates a list of 1000 random strings of characters. Here is a brief explanation of each line of code:***\n",
        "-------------------------------------------------------------------------------\n",
        "\n",
        "1. `random_numbers = list()`: Creates an empty list to store the random strings.\n",
        "2. `for i in range(0,1000):`: Loops 1000 times to generate 1000 random strings.\n",
        "3. `blank_str = str()`: Initializes an empty string to store the random characters.\n",
        "4. `random_digit = random.randint(0,35)`: Generates a random integer between 0 and 35 (inclusive) and assigns it to the variable `random_digit`.\n",
        "5. `blank_str = blank_str + mapping_dict[random_digit]`: Appends the character corresponding to the random integer in `mapping_dict` to"
      ],
      "metadata": {
        "id": "a7DtyuExPFyp"
      }
    },
    {
      "cell_type": "code",
      "source": [
        "random_numbers\n",
        "\n",
        "reverse_mapping_dict = dict()\n",
        "for k in mapping_dict.keys():\n",
        "  reverse_mapping_dict[mapping_dict[k]] = k\n",
        "\n",
        "reverse_mapping_dict\n",
        "\n",
        "for balnk_str in random_numbers:\n",
        "  highest_digit = max(blank_str)\n",
        "  highest_base = reverse_mapping_dict[highest_digit] + 1\n",
        "  print(\"Highest Base of {} is {}\".format(blank_str,highest_base))\n",
        "\n",
        "blank_dict = dict()\n",
        "\n",
        "for k in range(1,37):\n",
        "  blank_dict.setdefault(k,0)\n",
        "\n",
        "blank_dict\n",
        "\n",
        "for balnk_str in random_numbers:\n",
        "  highest_digit = max(blank_str)\n",
        "  highest_base = reverse_mapping_dict[highest_digit] + 1\n",
        "  blank_dict[highest_base] += 1\n",
        "\n",
        "  base_frequency = dict()\n",
        "\n",
        "for blank_str in random_numbers:\n",
        "  highest_digit = max(blank_str)\n",
        "  highest_base = reverse_mapping_dict[highest_digit] + 1\n",
        "\n",
        "  if highest_base in base_frequency.keys():\n",
        "    base_frequency[highest_base] += (1/1000000)\n",
        "  else:\n",
        "    base_frequency[highest_base] = (1/1000000)\n",
        "\n",
        "base_frequency\n",
        "\n",
        "blank_dict\n"
      ],
      "metadata": {
        "id": "nbSWLsYQPvjr"
      },
      "execution_count": null,
      "outputs": []
    },
    {
      "cell_type": "markdown",
      "source": [
        "# *--->This Python code generates a list of 1000 random strings of characters and then calculates the highest base of each string. Here is a brief explanation of each line of code:*\n",
        "--------------------------------------------------------------------------------\n",
        "\n",
        "1. `random_numbers`: A list of 1000 random strings of characters.\n",
        "2. `reverse_mapping_dict = dict()`: Creates an empty dictionary to store the reverse mapping of `mapping_dict`.\n",
        "3. `for k in mapping_dict.keys():`: Loops\n",
        "\n",
        "\n",
        "---\n",
        "\n",
        "---\n",
        "\n"
      ],
      "metadata": {
        "id": "xDKed9HBP2Th"
      }
    },
    {
      "cell_type": "markdown",
      "source": [
        "##PYTHON LIBRARY\n",
        "####1. Pandas\n",
        "####2. Numpy\n",
        "####3. Seaborn\n",
        "####4.Matplotib\n",
        "--------------------------------------------------------------------------------\n",
        "Python is a popular programming language that has a wide range of libraries available for use. Here are brief explanations of some of the libraries you mentioned:\n",
        "\n",
        "1. **Pandas**: A library for data manipulation and analysis. It provides data structures for efficiently storing and manipulating large datasets, as well as tools for cleaning, transforming, and analyzing data.\n",
        "\n",
        "2. **NumPy**: A library for numerical computing in Python. It provides support for large, multi-dimensional arrays and matrices, as well as a large collection of mathematical functions to operate on these arrays.\n",
        "\n",
        "3. **Seaborn**: A library for data visualization built on top of Matplotlib. It provides a high-level interface for creating informative and attractive statistical graphics.\n",
        "\n",
        "4. **Matplotlib**: A library for creating static, animated, and interactive visualizations in Python. It provides a wide\n",
        "\n",
        "\n",
        "---\n",
        "\n",
        "\n",
        "\n",
        "---\n",
        "\n"
      ],
      "metadata": {
        "id": "xTJWClfDQq7q"
      }
    },
    {
      "cell_type": "code",
      "source": [
        "import random"
      ],
      "metadata": {
        "id": "3N5eSFk6nexF"
      },
      "execution_count": null,
      "outputs": []
    },
    {
      "cell_type": "code",
      "source": [
        "import matplotlib.pyplot as plt\n"
      ],
      "metadata": {
        "id": "4ZRoyalenlo4"
      },
      "execution_count": null,
      "outputs": []
    },
    {
      "cell_type": "code",
      "source": [
        "sample_size = 5000\n",
        "\n",
        "random_numbers = list()\n",
        "\n",
        "for i in range(0,sample_size):\n",
        "\n",
        "  blank_str = str()\n",
        "\n",
        "  random_digit = random.randint(0,35)\n",
        "  blank_str = blank_str + mapping_dict[random_digit]\n",
        "\n",
        "  random_digit = random.randint(0,35)\n",
        "  blank_str = blank_str + mapping_dict[random_digit]\n",
        "\n",
        "  for i in range(0,8):\n",
        "    coin_toss = random.randint(0,1)\n",
        "\n",
        "    if coin_toss == 1:\n",
        "\n",
        "      random_digit = random.randint(0,35)\n",
        "      blank_str = blank_str + mapping_dict[random_digit]\n",
        "\n",
        "    else:\n",
        "      break\n",
        "\n",
        "  random_numbers.append(blank_str)\n",
        "  reverse_mapping_dict = dict()\n",
        "\n",
        "for k in mapping_dict.keys():\n",
        "  reverse_mapping_dict[mapping_dict[k]] = k\n",
        "  base_frequency = dict()\n",
        "\n",
        "for blank_str in random_numbers:\n",
        "  highest_digit = max(blank_str)\n",
        "  highest_base = reverse_mapping_dict[highest_digit] + 1\n",
        "\n",
        "  if highest_base in base_frequency.keys():\n",
        "    base_frequency[highest_base] += (1/sample_size)\n",
        "  else:\n",
        "    base_frequency[highest_base] = (1/sample_size)\n",
        "\n",
        "    plt.bar(x=base_frequency.keys(),height=base_frequency.values())"
      ],
      "metadata": {
        "id": "f0vA4WOpUz4b"
      },
      "execution_count": null,
      "outputs": []
    },
    {
      "cell_type": "markdown",
      "source": [
        "# **This Python code generates a list of 5000 random strings of characters and then calculates the highest base of each string.**\n",
        "\n",
        "* The random_numbers list is generated using a loop that generates two random characters from mapping_dict and then generates up to 8 more random characters with a probability of 0.5 for each character. The reverse_mapping_dict dictionary is generated using a loop that reverses the keys and values of mapping_dict. The base_frequency dictionary is generated using a loop that calculates the highest base of each string in random_numbers and increments the count associated with that base in base_frequency. Finally, the code creates a bar chart of the counts of each base using Matplotlib.\n",
        "\n",
        "\n",
        "---\n",
        "\n",
        "\n",
        "\n",
        "---\n",
        "\n"
      ],
      "metadata": {
        "id": "zfHuHWVmo6dq"
      }
    }
  ]
}